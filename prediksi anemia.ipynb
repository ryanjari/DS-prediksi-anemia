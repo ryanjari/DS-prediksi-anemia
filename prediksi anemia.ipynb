{
 "cells": [
  {
   "cell_type": "code",
   "execution_count": 1,
   "id": "6023cbbb-efb1-4c07-a793-0658e7863e18",
   "metadata": {
    "tags": []
   },
   "outputs": [],
   "source": [
    "import pandas as pd\n",
    "import matplotlib.pyplot as plt\n",
    "import seaborn as sns\n",
    "import warnings\n",
    "warnings.filterwarnings('ignore')"
   ]
  },
  {
   "cell_type": "code",
   "execution_count": 2,
   "id": "cbce71b1-06df-4801-a001-77dd6eafe58c",
   "metadata": {
    "tags": []
   },
   "outputs": [],
   "source": [
    "df = pd.read_csv(r\"C:\\Users\\PC\\Downloads\\archive(2)\\anemia_dataset.csv\")"
   ]
  },
  {
   "cell_type": "code",
   "execution_count": 3,
   "id": "20760ad7-c843-4495-8e22-1794b3f0908e",
   "metadata": {
    "tags": []
   },
   "outputs": [
    {
     "data": {
      "text/html": [
       "<div>\n",
       "<style scoped>\n",
       "    .dataframe tbody tr th:only-of-type {\n",
       "        vertical-align: middle;\n",
       "    }\n",
       "\n",
       "    .dataframe tbody tr th {\n",
       "        vertical-align: top;\n",
       "    }\n",
       "\n",
       "    .dataframe thead th {\n",
       "        text-align: right;\n",
       "    }\n",
       "</style>\n",
       "<table border=\"1\" class=\"dataframe\">\n",
       "  <thead>\n",
       "    <tr style=\"text-align: right;\">\n",
       "      <th></th>\n",
       "      <th>Number</th>\n",
       "      <th>Name</th>\n",
       "      <th>%Red Pixel</th>\n",
       "      <th>%Green pixel</th>\n",
       "      <th>%Blue pixel</th>\n",
       "      <th>Hb</th>\n",
       "      <th>Anaemic</th>\n",
       "      <th>Unnamed: 7</th>\n",
       "      <th>Unnamed: 8</th>\n",
       "      <th>Unnamed: 9</th>\n",
       "      <th>Unnamed: 10</th>\n",
       "      <th>Unnamed: 11</th>\n",
       "      <th>Unnamed: 12</th>\n",
       "      <th>Unnamed: 13</th>\n",
       "    </tr>\n",
       "  </thead>\n",
       "  <tbody>\n",
       "    <tr>\n",
       "      <th>0</th>\n",
       "      <td>1</td>\n",
       "      <td>Jafor Alam</td>\n",
       "      <td>43.2555</td>\n",
       "      <td>30.8421</td>\n",
       "      <td>25.9025</td>\n",
       "      <td>6.3</td>\n",
       "      <td>Yes</td>\n",
       "      <td>NaN</td>\n",
       "      <td>NaN</td>\n",
       "      <td>NaN</td>\n",
       "      <td>NaN</td>\n",
       "      <td>NaN</td>\n",
       "      <td>NaN</td>\n",
       "      <td>NaN</td>\n",
       "    </tr>\n",
       "    <tr>\n",
       "      <th>1</th>\n",
       "      <td>2</td>\n",
       "      <td>khadiza</td>\n",
       "      <td>45.6033</td>\n",
       "      <td>28.1900</td>\n",
       "      <td>26.2067</td>\n",
       "      <td>13.5</td>\n",
       "      <td>No</td>\n",
       "      <td>NaN</td>\n",
       "      <td>NaN</td>\n",
       "      <td>NaN</td>\n",
       "      <td>NaN</td>\n",
       "      <td>NaN</td>\n",
       "      <td>NaN</td>\n",
       "      <td>NaN</td>\n",
       "    </tr>\n",
       "    <tr>\n",
       "      <th>2</th>\n",
       "      <td>3</td>\n",
       "      <td>Lalu</td>\n",
       "      <td>45.0107</td>\n",
       "      <td>28.9677</td>\n",
       "      <td>26.0215</td>\n",
       "      <td>11.7</td>\n",
       "      <td>No</td>\n",
       "      <td>NaN</td>\n",
       "      <td>NaN</td>\n",
       "      <td>NaN</td>\n",
       "      <td>NaN</td>\n",
       "      <td>NaN</td>\n",
       "      <td>NaN</td>\n",
       "      <td>NaN</td>\n",
       "    </tr>\n",
       "    <tr>\n",
       "      <th>3</th>\n",
       "      <td>4</td>\n",
       "      <td>Mira nath</td>\n",
       "      <td>44.5398</td>\n",
       "      <td>28.9899</td>\n",
       "      <td>26.4703</td>\n",
       "      <td>13.5</td>\n",
       "      <td>No</td>\n",
       "      <td>NaN</td>\n",
       "      <td>NaN</td>\n",
       "      <td>NaN</td>\n",
       "      <td>NaN</td>\n",
       "      <td>NaN</td>\n",
       "      <td>NaN</td>\n",
       "      <td>NaN</td>\n",
       "    </tr>\n",
       "    <tr>\n",
       "      <th>4</th>\n",
       "      <td>5</td>\n",
       "      <td>monoara</td>\n",
       "      <td>43.2870</td>\n",
       "      <td>30.6972</td>\n",
       "      <td>26.0158</td>\n",
       "      <td>12.4</td>\n",
       "      <td>No</td>\n",
       "      <td>NaN</td>\n",
       "      <td>NaN</td>\n",
       "      <td>NaN</td>\n",
       "      <td>NaN</td>\n",
       "      <td>NaN</td>\n",
       "      <td>NaN</td>\n",
       "      <td>NaN</td>\n",
       "    </tr>\n",
       "  </tbody>\n",
       "</table>\n",
       "</div>"
      ],
      "text/plain": [
       "   Number        Name  %Red Pixel  %Green pixel  %Blue pixel    Hb Anaemic  \\\n",
       "0       1  Jafor Alam     43.2555       30.8421      25.9025   6.3     Yes   \n",
       "1       2     khadiza     45.6033       28.1900      26.2067  13.5      No   \n",
       "2       3        Lalu     45.0107       28.9677      26.0215  11.7      No   \n",
       "3       4   Mira nath     44.5398       28.9899      26.4703  13.5      No   \n",
       "4       5     monoara     43.2870       30.6972      26.0158  12.4      No   \n",
       "\n",
       "   Unnamed: 7  Unnamed: 8  Unnamed: 9  Unnamed: 10  Unnamed: 11  Unnamed: 12  \\\n",
       "0         NaN         NaN         NaN          NaN          NaN          NaN   \n",
       "1         NaN         NaN         NaN          NaN          NaN          NaN   \n",
       "2         NaN         NaN         NaN          NaN          NaN          NaN   \n",
       "3         NaN         NaN         NaN          NaN          NaN          NaN   \n",
       "4         NaN         NaN         NaN          NaN          NaN          NaN   \n",
       "\n",
       "  Unnamed: 13  \n",
       "0         NaN  \n",
       "1         NaN  \n",
       "2         NaN  \n",
       "3         NaN  \n",
       "4         NaN  "
      ]
     },
     "execution_count": 3,
     "metadata": {},
     "output_type": "execute_result"
    }
   ],
   "source": [
    "df.head()"
   ]
  },
  {
   "cell_type": "code",
   "execution_count": 4,
   "id": "9c527985-72e1-4791-86ed-8be014114ed8",
   "metadata": {
    "tags": []
   },
   "outputs": [],
   "source": [
    "df= df.drop(columns =['Number','Name','Unnamed: 7','Unnamed: 8','Unnamed: 9','Unnamed: 10','Unnamed: 11','Unnamed: 12','Unnamed: 13'])\n"
   ]
  },
  {
   "cell_type": "code",
   "execution_count": 5,
   "id": "2150d60a-1a31-4fac-a03e-df1d6e85c3e5",
   "metadata": {
    "tags": []
   },
   "outputs": [
    {
     "data": {
      "text/html": [
       "<div>\n",
       "<style scoped>\n",
       "    .dataframe tbody tr th:only-of-type {\n",
       "        vertical-align: middle;\n",
       "    }\n",
       "\n",
       "    .dataframe tbody tr th {\n",
       "        vertical-align: top;\n",
       "    }\n",
       "\n",
       "    .dataframe thead th {\n",
       "        text-align: right;\n",
       "    }\n",
       "</style>\n",
       "<table border=\"1\" class=\"dataframe\">\n",
       "  <thead>\n",
       "    <tr style=\"text-align: right;\">\n",
       "      <th></th>\n",
       "      <th>%Red Pixel</th>\n",
       "      <th>%Green pixel</th>\n",
       "      <th>%Blue pixel</th>\n",
       "      <th>Hb</th>\n",
       "    </tr>\n",
       "  </thead>\n",
       "  <tbody>\n",
       "    <tr>\n",
       "      <th>count</th>\n",
       "      <td>104.000000</td>\n",
       "      <td>104.000000</td>\n",
       "      <td>104.000000</td>\n",
       "      <td>104.000000</td>\n",
       "    </tr>\n",
       "    <tr>\n",
       "      <th>mean</th>\n",
       "      <td>45.654175</td>\n",
       "      <td>28.875507</td>\n",
       "      <td>25.470325</td>\n",
       "      <td>12.150962</td>\n",
       "    </tr>\n",
       "    <tr>\n",
       "      <th>std</th>\n",
       "      <td>2.816294</td>\n",
       "      <td>1.554275</td>\n",
       "      <td>1.984671</td>\n",
       "      <td>2.512957</td>\n",
       "    </tr>\n",
       "    <tr>\n",
       "      <th>min</th>\n",
       "      <td>38.796800</td>\n",
       "      <td>25.140300</td>\n",
       "      <td>19.541300</td>\n",
       "      <td>2.800000</td>\n",
       "    </tr>\n",
       "    <tr>\n",
       "      <th>25%</th>\n",
       "      <td>43.911375</td>\n",
       "      <td>27.871300</td>\n",
       "      <td>24.896425</td>\n",
       "      <td>10.650000</td>\n",
       "    </tr>\n",
       "    <tr>\n",
       "      <th>50%</th>\n",
       "      <td>45.385350</td>\n",
       "      <td>28.948750</td>\n",
       "      <td>25.953200</td>\n",
       "      <td>12.600000</td>\n",
       "    </tr>\n",
       "    <tr>\n",
       "      <th>75%</th>\n",
       "      <td>46.968325</td>\n",
       "      <td>29.887275</td>\n",
       "      <td>26.721600</td>\n",
       "      <td>14.000000</td>\n",
       "    </tr>\n",
       "    <tr>\n",
       "      <th>max</th>\n",
       "      <td>54.647800</td>\n",
       "      <td>32.368100</td>\n",
       "      <td>29.841400</td>\n",
       "      <td>16.300000</td>\n",
       "    </tr>\n",
       "  </tbody>\n",
       "</table>\n",
       "</div>"
      ],
      "text/plain": [
       "       %Red Pixel  %Green pixel  %Blue pixel          Hb\n",
       "count  104.000000    104.000000   104.000000  104.000000\n",
       "mean    45.654175     28.875507    25.470325   12.150962\n",
       "std      2.816294      1.554275     1.984671    2.512957\n",
       "min     38.796800     25.140300    19.541300    2.800000\n",
       "25%     43.911375     27.871300    24.896425   10.650000\n",
       "50%     45.385350     28.948750    25.953200   12.600000\n",
       "75%     46.968325     29.887275    26.721600   14.000000\n",
       "max     54.647800     32.368100    29.841400   16.300000"
      ]
     },
     "execution_count": 5,
     "metadata": {},
     "output_type": "execute_result"
    }
   ],
   "source": [
    "df.describe()"
   ]
  },
  {
   "cell_type": "code",
   "execution_count": 6,
   "id": "66eced00-1161-4f38-815b-6c7edde14670",
   "metadata": {
    "tags": []
   },
   "outputs": [
    {
     "name": "stdout",
     "output_type": "stream",
     "text": [
      "<class 'pandas.core.frame.DataFrame'>\n",
      "RangeIndex: 104 entries, 0 to 103\n",
      "Data columns (total 5 columns):\n",
      " #   Column        Non-Null Count  Dtype  \n",
      "---  ------        --------------  -----  \n",
      " 0   %Red Pixel    104 non-null    float64\n",
      " 1   %Green pixel  104 non-null    float64\n",
      " 2   %Blue pixel   104 non-null    float64\n",
      " 3   Hb            104 non-null    float64\n",
      " 4   Anaemic       104 non-null    object \n",
      "dtypes: float64(4), object(1)\n",
      "memory usage: 4.2+ KB\n"
     ]
    }
   ],
   "source": [
    "df.info()"
   ]
  },
  {
   "cell_type": "code",
   "execution_count": 7,
   "id": "fd1b8190-eab9-47f7-9f3a-70b9cacbb380",
   "metadata": {
    "tags": []
   },
   "outputs": [
    {
     "data": {
      "text/plain": [
       "Anaemic\n",
       "No     78\n",
       "Yes    26\n",
       "Name: count, dtype: int64"
      ]
     },
     "execution_count": 7,
     "metadata": {},
     "output_type": "execute_result"
    }
   ],
   "source": [
    "df['Anaemic'].value_counts()"
   ]
  },
  {
   "cell_type": "code",
   "execution_count": 8,
   "id": "3242d3c0-975f-4334-a100-c043774d2af5",
   "metadata": {
    "tags": []
   },
   "outputs": [
    {
     "data": {
      "text/plain": [
       "<Axes: xlabel='%Red Pixel', ylabel='Count'>"
      ]
     },
     "execution_count": 8,
     "metadata": {},
     "output_type": "execute_result"
    },
    {
     "data": {
      "image/png": "[encoded data removed]",
      "text/plain": [
       "<Figure size 1000x500 with 1 Axes>"
      ]
     },
     "metadata": {},
     "output_type": "display_data"
    }
   ],
   "source": [
    "plt.figure(figsize =(10,5))\n",
    "sns.histplot(data = df, x = '%Red Pixel', color ='green')"
   ]
  },
  {
   "cell_type": "code",
   "execution_count": 9,
   "id": "183c4420-3a7a-4f1c-a7e3-21c700f61073",
   "metadata": {
    "tags": []
   },
   "outputs": [
    {
     "data": {
      "text/plain": [
       "<Axes: xlabel='%Green pixel', ylabel='Count'>"
      ]
     },
     "execution_count": 9,
     "metadata": {},
     "output_type": "execute_result"
    },
    {
     "data": {
      "image/png": "[encoded data removed]",
      "text/plain": [
       "<Figure size 800x500 with 1 Axes>"
      ]
     },
     "metadata": {},
     "output_type": "display_data"
    }
   ],
   "source": [
    "plt.figure(figsize  = (8,5))\n",
    "sns.histplot(data = df, x ='%Green pixel', color = 'blue')"
   ]
  },
  {
   "cell_type": "code",
   "execution_count": 10,
   "id": "b0d082be-a993-42cc-8567-6fd2857b0fdb",
   "metadata": {
    "tags": []
   },
   "outputs": [
    {
     "data": {
      "text/plain": [
       "<Axes: xlabel='%Blue pixel', ylabel='Count'>"
      ]
     },
     "execution_count": 10,
     "metadata": {},
     "output_type": "execute_result"
    },
    {
     "data": {
      "image/png": "[encoded data removed]",
      "text/plain": [
       "<Figure size 800x500 with 1 Axes>"
      ]
     },
     "metadata": {},
     "output_type": "display_data"
    }
   ],
   "source": [
    "plt.figure(figsize  = (8,5))\n",
    "sns.histplot(data = df, x ='%Blue pixel', color = 'blue')"
   ]
  },
  {
   "cell_type": "code",
   "execution_count": 11,
   "id": "2f02745c-cf6d-4d08-b6e2-7c8d9130ecdb",
   "metadata": {
    "tags": []
   },
   "outputs": [
    {
     "data": {
      "text/plain": [
       "<Axes: xlabel='Hb', ylabel='Count'>"
      ]
     },
     "execution_count": 11,
     "metadata": {},
     "output_type": "execute_result"
    },
    {
     "data": {
      "image/png": "[encoded data removed]",
      "text/plain": [
       "<Figure size 800x500 with 1 Axes>"
      ]
     },
     "metadata": {},
     "output_type": "display_data"
    }
   ],
   "source": [
    "plt.figure(figsize  = (8,5))\n",
    "sns.histplot(data = df, x ='Hb', color = 'blue')"
   ]
  },
  {
   "cell_type": "code",
   "execution_count": 24,
   "id": "5b9202ab-a5e1-477c-bbc4-8a9ef8b73c99",
   "metadata": {
    "tags": []
   },
   "outputs": [
    {
     "data": {
      "text/plain": [
       "<Axes: xlabel='Hb', ylabel='Count'>"
      ]
     },
     "execution_count": 24,
     "metadata": {},
     "output_type": "execute_result"
    },
    {
     "data": {
      "image/png": "[encoded data removed]",
      "text/plain": [
       "<Figure size 800x500 with 1 Axes>"
      ]
     },
     "metadata": {},
     "output_type": "display_data"
    }
   ],
   "source": [
    "plt.figure(figsize =(8,5))\n",
    "sns.histplot(data = df, x ='Hb', hue = 'Anaemic')"
   ]
  },
  {
   "cell_type": "markdown",
   "id": "c7e16b01-0f07-41ca-bb53-3c1d1b4285e2",
   "metadata": {},
   "source": [
    "orang pengidap anemia memiliki Hb yang rendah dibandingkan dengan yang tidak memiliki anemia"
   ]
  },
  {
   "cell_type": "code",
   "execution_count": 12,
   "id": "b86794fe-413f-4c29-87a5-d4e74da5e136",
   "metadata": {
    "tags": []
   },
   "outputs": [
    {
     "data": {
      "image/png": "[encoded data removed]",
      "text/plain": [
       "<Figure size 1000x500 with 4 Axes>"
      ]
     },
     "metadata": {},
     "output_type": "display_data"
    }
   ],
   "source": [
    "r = df.drop(columns =['Anaemic'])\n",
    "plt.figure(figsize =(10,5))\n",
    "for i, column in enumerate(r,1):\n",
    "    plt.subplot(2, 3, i)\n",
    "    sns.boxplot(y = df[column])\n",
    "    plt.title(f'boxplot {column} ')\n",
    "\n",
    "plt.tight_layout()\n",
    "plt.show()\n",
    "    \n",
    "    "
   ]
  },
  {
   "cell_type": "code",
   "execution_count": 13,
   "id": "ab8c7a04-6466-4a33-ab42-82fa3451a705",
   "metadata": {
    "tags": []
   },
   "outputs": [
    {
     "data": {
      "text/plain": [
       "<Axes: >"
      ]
     },
     "execution_count": 13,
     "metadata": {},
     "output_type": "execute_result"
    },
    {
     "data": {
      "image/png": "[encoded data removed]",
      "text/plain": [
       "<Figure size 640x480 with 2 Axes>"
      ]
     },
     "metadata": {},
     "output_type": "display_data"
    }
   ],
   "source": [
    "cor = r.corr()\n",
    "sns.heatmap(data = cor, annot = True, cmap = 'coolwarm',linewidths= 0.5)"
   ]
  },
  {
   "cell_type": "code",
   "execution_count": 14,
   "id": "e8c41790-f96f-4f8d-a8c8-8ad7f9ae164b",
   "metadata": {
    "tags": []
   },
   "outputs": [
    {
     "data": {
      "text/plain": [
       "%Red Pixel      0\n",
       "%Green pixel    0\n",
       "%Blue pixel     0\n",
       "Hb              0\n",
       "Anaemic         0\n",
       "dtype: int64"
      ]
     },
     "execution_count": 14,
     "metadata": {},
     "output_type": "execute_result"
    }
   ],
   "source": [
    "df.isna().sum()"
   ]
  },
  {
   "cell_type": "code",
   "execution_count": 15,
   "id": "eada1cd2-a9af-4a43-910b-5ace84d4335f",
   "metadata": {
    "tags": []
   },
   "outputs": [
    {
     "data": {
      "text/plain": [
       "0"
      ]
     },
     "execution_count": 15,
     "metadata": {},
     "output_type": "execute_result"
    }
   ],
   "source": [
    "df.duplicated().sum()"
   ]
  },
  {
   "cell_type": "code",
   "execution_count": 16,
   "id": "3eaef451-1473-4e9a-b861-b6eb44cd1d34",
   "metadata": {
    "tags": []
   },
   "outputs": [
    {
     "data": {
      "text/html": [
       "<div>\n",
       "<style scoped>\n",
       "    .dataframe tbody tr th:only-of-type {\n",
       "        vertical-align: middle;\n",
       "    }\n",
       "\n",
       "    .dataframe tbody tr th {\n",
       "        vertical-align: top;\n",
       "    }\n",
       "\n",
       "    .dataframe thead th {\n",
       "        text-align: right;\n",
       "    }\n",
       "</style>\n",
       "<table border=\"1\" class=\"dataframe\">\n",
       "  <thead>\n",
       "    <tr style=\"text-align: right;\">\n",
       "      <th></th>\n",
       "      <th>%Red Pixel</th>\n",
       "      <th>%Green pixel</th>\n",
       "      <th>%Blue pixel</th>\n",
       "      <th>Hb</th>\n",
       "      <th>Anaemic</th>\n",
       "    </tr>\n",
       "  </thead>\n",
       "  <tbody>\n",
       "    <tr>\n",
       "      <th>0</th>\n",
       "      <td>43.2555</td>\n",
       "      <td>30.8421</td>\n",
       "      <td>25.9025</td>\n",
       "      <td>6.3</td>\n",
       "      <td>1</td>\n",
       "    </tr>\n",
       "    <tr>\n",
       "      <th>1</th>\n",
       "      <td>45.6033</td>\n",
       "      <td>28.1900</td>\n",
       "      <td>26.2067</td>\n",
       "      <td>13.5</td>\n",
       "      <td>0</td>\n",
       "    </tr>\n",
       "    <tr>\n",
       "      <th>2</th>\n",
       "      <td>45.0107</td>\n",
       "      <td>28.9677</td>\n",
       "      <td>26.0215</td>\n",
       "      <td>11.7</td>\n",
       "      <td>0</td>\n",
       "    </tr>\n",
       "    <tr>\n",
       "      <th>3</th>\n",
       "      <td>44.5398</td>\n",
       "      <td>28.9899</td>\n",
       "      <td>26.4703</td>\n",
       "      <td>13.5</td>\n",
       "      <td>0</td>\n",
       "    </tr>\n",
       "    <tr>\n",
       "      <th>4</th>\n",
       "      <td>43.2870</td>\n",
       "      <td>30.6972</td>\n",
       "      <td>26.0158</td>\n",
       "      <td>12.4</td>\n",
       "      <td>0</td>\n",
       "    </tr>\n",
       "    <tr>\n",
       "      <th>...</th>\n",
       "      <td>...</td>\n",
       "      <td>...</td>\n",
       "      <td>...</td>\n",
       "      <td>...</td>\n",
       "      <td>...</td>\n",
       "    </tr>\n",
       "    <tr>\n",
       "      <th>99</th>\n",
       "      <td>49.9999</td>\n",
       "      <td>29.2860</td>\n",
       "      <td>20.7141</td>\n",
       "      <td>14.5</td>\n",
       "      <td>1</td>\n",
       "    </tr>\n",
       "    <tr>\n",
       "      <th>100</th>\n",
       "      <td>42.2324</td>\n",
       "      <td>30.6757</td>\n",
       "      <td>27.0919</td>\n",
       "      <td>6.3</td>\n",
       "      <td>1</td>\n",
       "    </tr>\n",
       "    <tr>\n",
       "      <th>101</th>\n",
       "      <td>45.6064</td>\n",
       "      <td>31.9084</td>\n",
       "      <td>22.4852</td>\n",
       "      <td>12.7</td>\n",
       "      <td>0</td>\n",
       "    </tr>\n",
       "    <tr>\n",
       "      <th>102</th>\n",
       "      <td>45.2095</td>\n",
       "      <td>29.2769</td>\n",
       "      <td>25.5136</td>\n",
       "      <td>13.4</td>\n",
       "      <td>0</td>\n",
       "    </tr>\n",
       "    <tr>\n",
       "      <th>103</th>\n",
       "      <td>43.5706</td>\n",
       "      <td>29.8094</td>\n",
       "      <td>26.6199</td>\n",
       "      <td>12.2</td>\n",
       "      <td>0</td>\n",
       "    </tr>\n",
       "  </tbody>\n",
       "</table>\n",
       "<p>104 rows × 5 columns</p>\n",
       "</div>"
      ],
      "text/plain": [
       "     %Red Pixel  %Green pixel  %Blue pixel    Hb  Anaemic\n",
       "0       43.2555       30.8421      25.9025   6.3        1\n",
       "1       45.6033       28.1900      26.2067  13.5        0\n",
       "2       45.0107       28.9677      26.0215  11.7        0\n",
       "3       44.5398       28.9899      26.4703  13.5        0\n",
       "4       43.2870       30.6972      26.0158  12.4        0\n",
       "..          ...           ...          ...   ...      ...\n",
       "99      49.9999       29.2860      20.7141  14.5        1\n",
       "100     42.2324       30.6757      27.0919   6.3        1\n",
       "101     45.6064       31.9084      22.4852  12.7        0\n",
       "102     45.2095       29.2769      25.5136  13.4        0\n",
       "103     43.5706       29.8094      26.6199  12.2        0\n",
       "\n",
       "[104 rows x 5 columns]"
      ]
     },
     "execution_count": 16,
     "metadata": {},
     "output_type": "execute_result"
    }
   ],
   "source": [
    "from sklearn.preprocessing import LabelEncoder\n",
    "labelencoder =LabelEncoder()\n",
    "\n",
    "df['Anaemic'] = labelencoder.fit_transform(df['Anaemic'])\n",
    "df"
   ]
  },
  {
   "cell_type": "code",
   "execution_count": 17,
   "id": "c5f697a9-3e9e-4125-aec6-023b75d9d36c",
   "metadata": {
    "tags": []
   },
   "outputs": [],
   "source": [
    "from pycaret.classification import setup, compare_models"
   ]
  },
  {
   "cell_type": "code",
   "execution_count": 18,
   "id": "3f3019c3-df2e-44e9-8499-fc9d4b20a6c7",
   "metadata": {
    "tags": []
   },
   "outputs": [
    {
     "data": {
      "text/html": [
       "<style type=\"text/css\">\n",
       "#T_c3073_row8_col1, #T_c3073_row12_col1 {\n",
       "  background-color: lightgreen;\n",
       "}\n",
       "</style>\n",
       "<table id=\"T_c3073\">\n",
       "  <thead>\n",
       "    <tr>\n",
       "      <th class=\"blank level0\" >&nbsp;</th>\n",
       "      <th id=\"T_c3073_level0_col0\" class=\"col_heading level0 col0\" >Description</th>\n",
       "      <th id=\"T_c3073_level0_col1\" class=\"col_heading level0 col1\" >Value</th>\n",
       "    </tr>\n",
       "  </thead>\n",
       "  <tbody>\n",
       "    <tr>\n",
       "      <th id=\"T_c3073_level0_row0\" class=\"row_heading level0 row0\" >0</th>\n",
       "      <td id=\"T_c3073_row0_col0\" class=\"data row0 col0\" >Session id</td>\n",
       "      <td id=\"T_c3073_row0_col1\" class=\"data row0 col1\" >123</td>\n",
       "    </tr>\n",
       "    <tr>\n",
       "      <th id=\"T_c3073_level0_row1\" class=\"row_heading level0 row1\" >1</th>\n",
       "      <td id=\"T_c3073_row1_col0\" class=\"data row1 col0\" >Target</td>\n",
       "      <td id=\"T_c3073_row1_col1\" class=\"data row1 col1\" >Anaemic</td>\n",
       "    </tr>\n",
       "    <tr>\n",
       "      <th id=\"T_c3073_level0_row2\" class=\"row_heading level0 row2\" >2</th>\n",
       "      <td id=\"T_c3073_row2_col0\" class=\"data row2 col0\" >Target type</td>\n",
       "      <td id=\"T_c3073_row2_col1\" class=\"data row2 col1\" >Binary</td>\n",
       "    </tr>\n",
       "    <tr>\n",
       "      <th id=\"T_c3073_level0_row3\" class=\"row_heading level0 row3\" >3</th>\n",
       "      <td id=\"T_c3073_row3_col0\" class=\"data row3 col0\" >Original data shape</td>\n",
       "      <td id=\"T_c3073_row3_col1\" class=\"data row3 col1\" >(104, 5)</td>\n",
       "    </tr>\n",
       "    <tr>\n",
       "      <th id=\"T_c3073_level0_row4\" class=\"row_heading level0 row4\" >4</th>\n",
       "      <td id=\"T_c3073_row4_col0\" class=\"data row4 col0\" >Transformed data shape</td>\n",
       "      <td id=\"T_c3073_row4_col1\" class=\"data row4 col1\" >(145, 5)</td>\n",
       "    </tr>\n",
       "    <tr>\n",
       "      <th id=\"T_c3073_level0_row5\" class=\"row_heading level0 row5\" >5</th>\n",
       "      <td id=\"T_c3073_row5_col0\" class=\"data row5 col0\" >Transformed train set shape</td>\n",
       "      <td id=\"T_c3073_row5_col1\" class=\"data row5 col1\" >(124, 5)</td>\n",
       "    </tr>\n",
       "    <tr>\n",
       "      <th id=\"T_c3073_level0_row6\" class=\"row_heading level0 row6\" >6</th>\n",
       "      <td id=\"T_c3073_row6_col0\" class=\"data row6 col0\" >Transformed test set shape</td>\n",
       "      <td id=\"T_c3073_row6_col1\" class=\"data row6 col1\" >(21, 5)</td>\n",
       "    </tr>\n",
       "    <tr>\n",
       "      <th id=\"T_c3073_level0_row7\" class=\"row_heading level0 row7\" >7</th>\n",
       "      <td id=\"T_c3073_row7_col0\" class=\"data row7 col0\" >Numeric features</td>\n",
       "      <td id=\"T_c3073_row7_col1\" class=\"data row7 col1\" >4</td>\n",
       "    </tr>\n",
       "    <tr>\n",
       "      <th id=\"T_c3073_level0_row8\" class=\"row_heading level0 row8\" >8</th>\n",
       "      <td id=\"T_c3073_row8_col0\" class=\"data row8 col0\" >Preprocess</td>\n",
       "      <td id=\"T_c3073_row8_col1\" class=\"data row8 col1\" >True</td>\n",
       "    </tr>\n",
       "    <tr>\n",
       "      <th id=\"T_c3073_level0_row9\" class=\"row_heading level0 row9\" >9</th>\n",
       "      <td id=\"T_c3073_row9_col0\" class=\"data row9 col0\" >Imputation type</td>\n",
       "      <td id=\"T_c3073_row9_col1\" class=\"data row9 col1\" >simple</td>\n",
       "    </tr>\n",
       "    <tr>\n",
       "      <th id=\"T_c3073_level0_row10\" class=\"row_heading level0 row10\" >10</th>\n",
       "      <td id=\"T_c3073_row10_col0\" class=\"data row10 col0\" >Numeric imputation</td>\n",
       "      <td id=\"T_c3073_row10_col1\" class=\"data row10 col1\" >mean</td>\n",
       "    </tr>\n",
       "    <tr>\n",
       "      <th id=\"T_c3073_level0_row11\" class=\"row_heading level0 row11\" >11</th>\n",
       "      <td id=\"T_c3073_row11_col0\" class=\"data row11 col0\" >Categorical imputation</td>\n",
       "      <td id=\"T_c3073_row11_col1\" class=\"data row11 col1\" >mode</td>\n",
       "    </tr>\n",
       "    <tr>\n",
       "      <th id=\"T_c3073_level0_row12\" class=\"row_heading level0 row12\" >12</th>\n",
       "      <td id=\"T_c3073_row12_col0\" class=\"data row12 col0\" >Fix imbalance</td>\n",
       "      <td id=\"T_c3073_row12_col1\" class=\"data row12 col1\" >True</td>\n",
       "    </tr>\n",
       "    <tr>\n",
       "      <th id=\"T_c3073_level0_row13\" class=\"row_heading level0 row13\" >13</th>\n",
       "      <td id=\"T_c3073_row13_col0\" class=\"data row13 col0\" >Fix imbalance method</td>\n",
       "      <td id=\"T_c3073_row13_col1\" class=\"data row13 col1\" >SMOTE</td>\n",
       "    </tr>\n",
       "    <tr>\n",
       "      <th id=\"T_c3073_level0_row14\" class=\"row_heading level0 row14\" >14</th>\n",
       "      <td id=\"T_c3073_row14_col0\" class=\"data row14 col0\" >Fold Generator</td>\n",
       "      <td id=\"T_c3073_row14_col1\" class=\"data row14 col1\" >StratifiedKFold</td>\n",
       "    </tr>\n",
       "    <tr>\n",
       "      <th id=\"T_c3073_level0_row15\" class=\"row_heading level0 row15\" >15</th>\n",
       "      <td id=\"T_c3073_row15_col0\" class=\"data row15 col0\" >Fold Number</td>\n",
       "      <td id=\"T_c3073_row15_col1\" class=\"data row15 col1\" >10</td>\n",
       "    </tr>\n",
       "    <tr>\n",
       "      <th id=\"T_c3073_level0_row16\" class=\"row_heading level0 row16\" >16</th>\n",
       "      <td id=\"T_c3073_row16_col0\" class=\"data row16 col0\" >CPU Jobs</td>\n",
       "      <td id=\"T_c3073_row16_col1\" class=\"data row16 col1\" >-1</td>\n",
       "    </tr>\n",
       "    <tr>\n",
       "      <th id=\"T_c3073_level0_row17\" class=\"row_heading level0 row17\" >17</th>\n",
       "      <td id=\"T_c3073_row17_col0\" class=\"data row17 col0\" >Use GPU</td>\n",
       "      <td id=\"T_c3073_row17_col1\" class=\"data row17 col1\" >False</td>\n",
       "    </tr>\n",
       "    <tr>\n",
       "      <th id=\"T_c3073_level0_row18\" class=\"row_heading level0 row18\" >18</th>\n",
       "      <td id=\"T_c3073_row18_col0\" class=\"data row18 col0\" >Log Experiment</td>\n",
       "      <td id=\"T_c3073_row18_col1\" class=\"data row18 col1\" >False</td>\n",
       "    </tr>\n",
       "    <tr>\n",
       "      <th id=\"T_c3073_level0_row19\" class=\"row_heading level0 row19\" >19</th>\n",
       "      <td id=\"T_c3073_row19_col0\" class=\"data row19 col0\" >Experiment Name</td>\n",
       "      <td id=\"T_c3073_row19_col1\" class=\"data row19 col1\" >Anaemic_Classification</td>\n",
       "    </tr>\n",
       "    <tr>\n",
       "      <th id=\"T_c3073_level0_row20\" class=\"row_heading level0 row20\" >20</th>\n",
       "      <td id=\"T_c3073_row20_col0\" class=\"data row20 col0\" >USI</td>\n",
       "      <td id=\"T_c3073_row20_col1\" class=\"data row20 col1\" >d1c7</td>\n",
       "    </tr>\n",
       "  </tbody>\n",
       "</table>\n"
      ],
      "text/plain": [
       "<pandas.io.formats.style.Styler at 0x2860bc13a10>"
      ]
     },
     "metadata": {},
     "output_type": "display_data"
    },
    {
     "data": {
      "text/html": [],
      "text/plain": [
       "<IPython.core.display.HTML object>"
      ]
     },
     "metadata": {},
     "output_type": "display_data"
    },
    {
     "data": {
      "text/html": [
       "<style type=\"text/css\">\n",
       "#T_92b22 th {\n",
       "  text-align: left;\n",
       "}\n",
       "#T_92b22_row0_col0, #T_92b22_row0_col2, #T_92b22_row0_col3, #T_92b22_row0_col5, #T_92b22_row1_col0, #T_92b22_row1_col2, #T_92b22_row1_col3, #T_92b22_row1_col5, #T_92b22_row2_col0, #T_92b22_row2_col1, #T_92b22_row2_col2, #T_92b22_row2_col3, #T_92b22_row2_col4, #T_92b22_row2_col5, #T_92b22_row2_col6, #T_92b22_row2_col7, #T_92b22_row3_col0, #T_92b22_row3_col1, #T_92b22_row3_col2, #T_92b22_row3_col3, #T_92b22_row3_col4, #T_92b22_row3_col5, #T_92b22_row3_col6, #T_92b22_row3_col7, #T_92b22_row4_col0, #T_92b22_row4_col1, #T_92b22_row4_col2, #T_92b22_row4_col3, #T_92b22_row4_col4, #T_92b22_row4_col5, #T_92b22_row4_col6, #T_92b22_row4_col7, #T_92b22_row5_col0, #T_92b22_row5_col1, #T_92b22_row5_col2, #T_92b22_row5_col4, #T_92b22_row5_col6, #T_92b22_row5_col7, #T_92b22_row6_col0, #T_92b22_row6_col1, #T_92b22_row6_col2, #T_92b22_row6_col4, #T_92b22_row6_col5, #T_92b22_row6_col6, #T_92b22_row6_col7, #T_92b22_row7_col0, #T_92b22_row7_col1, #T_92b22_row7_col3, #T_92b22_row7_col4, #T_92b22_row7_col5, #T_92b22_row7_col6, #T_92b22_row7_col7, #T_92b22_row8_col0, #T_92b22_row8_col1, #T_92b22_row8_col2, #T_92b22_row8_col3, #T_92b22_row8_col4, #T_92b22_row8_col5, #T_92b22_row8_col6, #T_92b22_row8_col7, #T_92b22_row9_col0, #T_92b22_row9_col1, #T_92b22_row9_col2, #T_92b22_row9_col3, #T_92b22_row9_col4, #T_92b22_row9_col5, #T_92b22_row9_col6, #T_92b22_row9_col7, #T_92b22_row10_col0, #T_92b22_row10_col1, #T_92b22_row10_col2, #T_92b22_row10_col4, #T_92b22_row10_col5, #T_92b22_row10_col6, #T_92b22_row10_col7, #T_92b22_row11_col0, #T_92b22_row11_col1, #T_92b22_row11_col2, #T_92b22_row11_col4, #T_92b22_row11_col5, #T_92b22_row11_col6, #T_92b22_row11_col7, #T_92b22_row12_col0, #T_92b22_row12_col1, #T_92b22_row12_col2, #T_92b22_row12_col3, #T_92b22_row12_col4, #T_92b22_row12_col5, #T_92b22_row12_col6, #T_92b22_row12_col7, #T_92b22_row13_col0, #T_92b22_row13_col1, #T_92b22_row13_col2, #T_92b22_row13_col3, #T_92b22_row13_col4, #T_92b22_row13_col5, #T_92b22_row13_col6, #T_92b22_row13_col7, #T_92b22_row14_col0, #T_92b22_row14_col1, #T_92b22_row14_col2, #T_92b22_row14_col3, #T_92b22_row14_col4, #T_92b22_row14_col5, #T_92b22_row14_col6, #T_92b22_row14_col7 {\n",
       "  text-align: left;\n",
       "}\n",
       "#T_92b22_row0_col1, #T_92b22_row0_col4, #T_92b22_row0_col6, #T_92b22_row0_col7, #T_92b22_row1_col1, #T_92b22_row1_col4, #T_92b22_row1_col6, #T_92b22_row1_col7, #T_92b22_row5_col3, #T_92b22_row5_col5, #T_92b22_row6_col3, #T_92b22_row7_col2, #T_92b22_row10_col3, #T_92b22_row11_col3 {\n",
       "  text-align: left;\n",
       "  background-color: yellow;\n",
       "}\n",
       "#T_92b22_row0_col8, #T_92b22_row1_col8, #T_92b22_row2_col8, #T_92b22_row3_col8, #T_92b22_row4_col8, #T_92b22_row5_col8, #T_92b22_row6_col8, #T_92b22_row7_col8, #T_92b22_row8_col8, #T_92b22_row10_col8, #T_92b22_row11_col8 {\n",
       "  text-align: left;\n",
       "  background-color: lightgrey;\n",
       "}\n",
       "#T_92b22_row9_col8, #T_92b22_row12_col8, #T_92b22_row13_col8, #T_92b22_row14_col8 {\n",
       "  text-align: left;\n",
       "  background-color: yellow;\n",
       "  background-color: lightgrey;\n",
       "}\n",
       "</style>\n",
       "<table id=\"T_92b22\">\n",
       "  <thead>\n",
       "    <tr>\n",
       "      <th class=\"blank level0\" >&nbsp;</th>\n",
       "      <th id=\"T_92b22_level0_col0\" class=\"col_heading level0 col0\" >Model</th>\n",
       "      <th id=\"T_92b22_level0_col1\" class=\"col_heading level0 col1\" >Accuracy</th>\n",
       "      <th id=\"T_92b22_level0_col2\" class=\"col_heading level0 col2\" >AUC</th>\n",
       "      <th id=\"T_92b22_level0_col3\" class=\"col_heading level0 col3\" >Recall</th>\n",
       "      <th id=\"T_92b22_level0_col4\" class=\"col_heading level0 col4\" >Prec.</th>\n",
       "      <th id=\"T_92b22_level0_col5\" class=\"col_heading level0 col5\" >F1</th>\n",
       "      <th id=\"T_92b22_level0_col6\" class=\"col_heading level0 col6\" >Kappa</th>\n",
       "      <th id=\"T_92b22_level0_col7\" class=\"col_heading level0 col7\" >MCC</th>\n",
       "      <th id=\"T_92b22_level0_col8\" class=\"col_heading level0 col8\" >TT (Sec)</th>\n",
       "    </tr>\n",
       "  </thead>\n",
       "  <tbody>\n",
       "    <tr>\n",
       "      <th id=\"T_92b22_level0_row0\" class=\"row_heading level0 row0\" >rf</th>\n",
       "      <td id=\"T_92b22_row0_col0\" class=\"data row0 col0\" >Random Forest Classifier</td>\n",
       "      <td id=\"T_92b22_row0_col1\" class=\"data row0 col1\" >0.9625</td>\n",
       "      <td id=\"T_92b22_row0_col2\" class=\"data row0 col2\" >0.9750</td>\n",
       "      <td id=\"T_92b22_row0_col3\" class=\"data row0 col3\" >0.9000</td>\n",
       "      <td id=\"T_92b22_row0_col4\" class=\"data row0 col4\" >0.9667</td>\n",
       "      <td id=\"T_92b22_row0_col5\" class=\"data row0 col5\" >0.9133</td>\n",
       "      <td id=\"T_92b22_row0_col6\" class=\"data row0 col6\" >0.8914</td>\n",
       "      <td id=\"T_92b22_row0_col7\" class=\"data row0 col7\" >0.9055</td>\n",
       "      <td id=\"T_92b22_row0_col8\" class=\"data row0 col8\" >0.0630</td>\n",
       "    </tr>\n",
       "    <tr>\n",
       "      <th id=\"T_92b22_level0_row1\" class=\"row_heading level0 row1\" >gbc</th>\n",
       "      <td id=\"T_92b22_row1_col0\" class=\"data row1 col0\" >Gradient Boosting Classifier</td>\n",
       "      <td id=\"T_92b22_row1_col1\" class=\"data row1 col1\" >0.9625</td>\n",
       "      <td id=\"T_92b22_row1_col2\" class=\"data row1 col2\" >0.9417</td>\n",
       "      <td id=\"T_92b22_row1_col3\" class=\"data row1 col3\" >0.9000</td>\n",
       "      <td id=\"T_92b22_row1_col4\" class=\"data row1 col4\" >0.9667</td>\n",
       "      <td id=\"T_92b22_row1_col5\" class=\"data row1 col5\" >0.9133</td>\n",
       "      <td id=\"T_92b22_row1_col6\" class=\"data row1 col6\" >0.8914</td>\n",
       "      <td id=\"T_92b22_row1_col7\" class=\"data row1 col7\" >0.9055</td>\n",
       "      <td id=\"T_92b22_row1_col8\" class=\"data row1 col8\" >0.0440</td>\n",
       "    </tr>\n",
       "    <tr>\n",
       "      <th id=\"T_92b22_level0_row2\" class=\"row_heading level0 row2\" >dt</th>\n",
       "      <td id=\"T_92b22_row2_col0\" class=\"data row2 col0\" >Decision Tree Classifier</td>\n",
       "      <td id=\"T_92b22_row2_col1\" class=\"data row2 col1\" >0.9500</td>\n",
       "      <td id=\"T_92b22_row2_col2\" class=\"data row2 col2\" >0.9333</td>\n",
       "      <td id=\"T_92b22_row2_col3\" class=\"data row2 col3\" >0.9000</td>\n",
       "      <td id=\"T_92b22_row2_col4\" class=\"data row2 col4\" >0.9333</td>\n",
       "      <td id=\"T_92b22_row2_col5\" class=\"data row2 col5\" >0.8933</td>\n",
       "      <td id=\"T_92b22_row2_col6\" class=\"data row2 col6\" >0.8629</td>\n",
       "      <td id=\"T_92b22_row2_col7\" class=\"data row2 col7\" >0.8800</td>\n",
       "      <td id=\"T_92b22_row2_col8\" class=\"data row2 col8\" >0.0120</td>\n",
       "    </tr>\n",
       "    <tr>\n",
       "      <th id=\"T_92b22_level0_row3\" class=\"row_heading level0 row3\" >ada</th>\n",
       "      <td id=\"T_92b22_row3_col0\" class=\"data row3 col0\" >Ada Boost Classifier</td>\n",
       "      <td id=\"T_92b22_row3_col1\" class=\"data row3 col1\" >0.9500</td>\n",
       "      <td id=\"T_92b22_row3_col2\" class=\"data row3 col2\" >0.9667</td>\n",
       "      <td id=\"T_92b22_row3_col3\" class=\"data row3 col3\" >0.9000</td>\n",
       "      <td id=\"T_92b22_row3_col4\" class=\"data row3 col4\" >0.9333</td>\n",
       "      <td id=\"T_92b22_row3_col5\" class=\"data row3 col5\" >0.8933</td>\n",
       "      <td id=\"T_92b22_row3_col6\" class=\"data row3 col6\" >0.8629</td>\n",
       "      <td id=\"T_92b22_row3_col7\" class=\"data row3 col7\" >0.8800</td>\n",
       "      <td id=\"T_92b22_row3_col8\" class=\"data row3 col8\" >0.0390</td>\n",
       "    </tr>\n",
       "    <tr>\n",
       "      <th id=\"T_92b22_level0_row4\" class=\"row_heading level0 row4\" >xgboost</th>\n",
       "      <td id=\"T_92b22_row4_col0\" class=\"data row4 col0\" >Extreme Gradient Boosting</td>\n",
       "      <td id=\"T_92b22_row4_col1\" class=\"data row4 col1\" >0.9500</td>\n",
       "      <td id=\"T_92b22_row4_col2\" class=\"data row4 col2\" >0.9542</td>\n",
       "      <td id=\"T_92b22_row4_col3\" class=\"data row4 col3\" >0.9000</td>\n",
       "      <td id=\"T_92b22_row4_col4\" class=\"data row4 col4\" >0.9500</td>\n",
       "      <td id=\"T_92b22_row4_col5\" class=\"data row4 col5\" >0.9000</td>\n",
       "      <td id=\"T_92b22_row4_col6\" class=\"data row4 col6\" >0.8700</td>\n",
       "      <td id=\"T_92b22_row4_col7\" class=\"data row4 col7\" >0.8887</td>\n",
       "      <td id=\"T_92b22_row4_col8\" class=\"data row4 col8\" >0.0220</td>\n",
       "    </tr>\n",
       "    <tr>\n",
       "      <th id=\"T_92b22_level0_row5\" class=\"row_heading level0 row5\" >lightgbm</th>\n",
       "      <td id=\"T_92b22_row5_col0\" class=\"data row5 col0\" >Light Gradient Boosting Machine</td>\n",
       "      <td id=\"T_92b22_row5_col1\" class=\"data row5 col1\" >0.9500</td>\n",
       "      <td id=\"T_92b22_row5_col2\" class=\"data row5 col2\" >0.9667</td>\n",
       "      <td id=\"T_92b22_row5_col3\" class=\"data row5 col3\" >0.9500</td>\n",
       "      <td id=\"T_92b22_row5_col4\" class=\"data row5 col4\" >0.9000</td>\n",
       "      <td id=\"T_92b22_row5_col5\" class=\"data row5 col5\" >0.9200</td>\n",
       "      <td id=\"T_92b22_row5_col6\" class=\"data row5 col6\" >0.8857</td>\n",
       "      <td id=\"T_92b22_row5_col7\" class=\"data row5 col7\" >0.8894</td>\n",
       "      <td id=\"T_92b22_row5_col8\" class=\"data row5 col8\" >0.0280</td>\n",
       "    </tr>\n",
       "    <tr>\n",
       "      <th id=\"T_92b22_level0_row6\" class=\"row_heading level0 row6\" >knn</th>\n",
       "      <td id=\"T_92b22_row6_col0\" class=\"data row6 col0\" >K Neighbors Classifier</td>\n",
       "      <td id=\"T_92b22_row6_col1\" class=\"data row6 col1\" >0.9375</td>\n",
       "      <td id=\"T_92b22_row6_col2\" class=\"data row6 col2\" >0.9750</td>\n",
       "      <td id=\"T_92b22_row6_col3\" class=\"data row6 col3\" >0.9500</td>\n",
       "      <td id=\"T_92b22_row6_col4\" class=\"data row6 col4\" >0.8833</td>\n",
       "      <td id=\"T_92b22_row6_col5\" class=\"data row6 col5\" >0.8933</td>\n",
       "      <td id=\"T_92b22_row6_col6\" class=\"data row6 col6\" >0.8529</td>\n",
       "      <td id=\"T_92b22_row6_col7\" class=\"data row6 col7\" >0.8723</td>\n",
       "      <td id=\"T_92b22_row6_col8\" class=\"data row6 col8\" >0.0170</td>\n",
       "    </tr>\n",
       "    <tr>\n",
       "      <th id=\"T_92b22_level0_row7\" class=\"row_heading level0 row7\" >et</th>\n",
       "      <td id=\"T_92b22_row7_col0\" class=\"data row7 col0\" >Extra Trees Classifier</td>\n",
       "      <td id=\"T_92b22_row7_col1\" class=\"data row7 col1\" >0.9375</td>\n",
       "      <td id=\"T_92b22_row7_col2\" class=\"data row7 col2\" >0.9792</td>\n",
       "      <td id=\"T_92b22_row7_col3\" class=\"data row7 col3\" >0.9000</td>\n",
       "      <td id=\"T_92b22_row7_col4\" class=\"data row7 col4\" >0.9167</td>\n",
       "      <td id=\"T_92b22_row7_col5\" class=\"data row7 col5\" >0.8800</td>\n",
       "      <td id=\"T_92b22_row7_col6\" class=\"data row7 col6\" >0.8414</td>\n",
       "      <td id=\"T_92b22_row7_col7\" class=\"data row7 col7\" >0.8632</td>\n",
       "      <td id=\"T_92b22_row7_col8\" class=\"data row7 col8\" >0.0590</td>\n",
       "    </tr>\n",
       "    <tr>\n",
       "      <th id=\"T_92b22_level0_row8\" class=\"row_heading level0 row8\" >lr</th>\n",
       "      <td id=\"T_92b22_row8_col0\" class=\"data row8 col0\" >Logistic Regression</td>\n",
       "      <td id=\"T_92b22_row8_col1\" class=\"data row8 col1\" >0.9264</td>\n",
       "      <td id=\"T_92b22_row8_col2\" class=\"data row8 col2\" >0.9583</td>\n",
       "      <td id=\"T_92b22_row8_col3\" class=\"data row8 col3\" >0.9000</td>\n",
       "      <td id=\"T_92b22_row8_col4\" class=\"data row8 col4\" >0.8833</td>\n",
       "      <td id=\"T_92b22_row8_col5\" class=\"data row8 col5\" >0.8600</td>\n",
       "      <td id=\"T_92b22_row8_col6\" class=\"data row8 col6\" >0.8142</td>\n",
       "      <td id=\"T_92b22_row8_col7\" class=\"data row8 col7\" >0.8388</td>\n",
       "      <td id=\"T_92b22_row8_col8\" class=\"data row8 col8\" >0.5160</td>\n",
       "    </tr>\n",
       "    <tr>\n",
       "      <th id=\"T_92b22_level0_row9\" class=\"row_heading level0 row9\" >nb</th>\n",
       "      <td id=\"T_92b22_row9_col0\" class=\"data row9 col0\" >Naive Bayes</td>\n",
       "      <td id=\"T_92b22_row9_col1\" class=\"data row9 col1\" >0.9264</td>\n",
       "      <td id=\"T_92b22_row9_col2\" class=\"data row9 col2\" >0.9583</td>\n",
       "      <td id=\"T_92b22_row9_col3\" class=\"data row9 col3\" >0.9167</td>\n",
       "      <td id=\"T_92b22_row9_col4\" class=\"data row9 col4\" >0.9067</td>\n",
       "      <td id=\"T_92b22_row9_col5\" class=\"data row9 col5\" >0.8838</td>\n",
       "      <td id=\"T_92b22_row9_col6\" class=\"data row9 col6\" >0.8375</td>\n",
       "      <td id=\"T_92b22_row9_col7\" class=\"data row9 col7\" >0.8603</td>\n",
       "      <td id=\"T_92b22_row9_col8\" class=\"data row9 col8\" >0.0110</td>\n",
       "    </tr>\n",
       "    <tr>\n",
       "      <th id=\"T_92b22_level0_row10\" class=\"row_heading level0 row10\" >ridge</th>\n",
       "      <td id=\"T_92b22_row10_col0\" class=\"data row10 col0\" >Ridge Classifier</td>\n",
       "      <td id=\"T_92b22_row10_col1\" class=\"data row10 col1\" >0.9139</td>\n",
       "      <td id=\"T_92b22_row10_col2\" class=\"data row10 col2\" >0.9667</td>\n",
       "      <td id=\"T_92b22_row10_col3\" class=\"data row10 col3\" >0.9500</td>\n",
       "      <td id=\"T_92b22_row10_col4\" class=\"data row10 col4\" >0.8167</td>\n",
       "      <td id=\"T_92b22_row10_col5\" class=\"data row10 col5\" >0.8633</td>\n",
       "      <td id=\"T_92b22_row10_col6\" class=\"data row10 col6\" >0.8061</td>\n",
       "      <td id=\"T_92b22_row10_col7\" class=\"data row10 col7\" >0.8244</td>\n",
       "      <td id=\"T_92b22_row10_col8\" class=\"data row10 col8\" >0.0130</td>\n",
       "    </tr>\n",
       "    <tr>\n",
       "      <th id=\"T_92b22_level0_row11\" class=\"row_heading level0 row11\" >lda</th>\n",
       "      <td id=\"T_92b22_row11_col0\" class=\"data row11 col0\" >Linear Discriminant Analysis</td>\n",
       "      <td id=\"T_92b22_row11_col1\" class=\"data row11 col1\" >0.9139</td>\n",
       "      <td id=\"T_92b22_row11_col2\" class=\"data row11 col2\" >0.9667</td>\n",
       "      <td id=\"T_92b22_row11_col3\" class=\"data row11 col3\" >0.9500</td>\n",
       "      <td id=\"T_92b22_row11_col4\" class=\"data row11 col4\" >0.8167</td>\n",
       "      <td id=\"T_92b22_row11_col5\" class=\"data row11 col5\" >0.8633</td>\n",
       "      <td id=\"T_92b22_row11_col6\" class=\"data row11 col6\" >0.8061</td>\n",
       "      <td id=\"T_92b22_row11_col7\" class=\"data row11 col7\" >0.8244</td>\n",
       "      <td id=\"T_92b22_row11_col8\" class=\"data row11 col8\" >0.0130</td>\n",
       "    </tr>\n",
       "    <tr>\n",
       "      <th id=\"T_92b22_level0_row12\" class=\"row_heading level0 row12\" >qda</th>\n",
       "      <td id=\"T_92b22_row12_col0\" class=\"data row12 col0\" >Quadratic Discriminant Analysis</td>\n",
       "      <td id=\"T_92b22_row12_col1\" class=\"data row12 col1\" >0.9125</td>\n",
       "      <td id=\"T_92b22_row12_col2\" class=\"data row12 col2\" >0.9583</td>\n",
       "      <td id=\"T_92b22_row12_col3\" class=\"data row12 col3\" >0.8500</td>\n",
       "      <td id=\"T_92b22_row12_col4\" class=\"data row12 col4\" >0.8000</td>\n",
       "      <td id=\"T_92b22_row12_col5\" class=\"data row12 col5\" >0.8000</td>\n",
       "      <td id=\"T_92b22_row12_col6\" class=\"data row12 col6\" >0.7600</td>\n",
       "      <td id=\"T_92b22_row12_col7\" class=\"data row12 col7\" >0.7809</td>\n",
       "      <td id=\"T_92b22_row12_col8\" class=\"data row12 col8\" >0.0110</td>\n",
       "    </tr>\n",
       "    <tr>\n",
       "      <th id=\"T_92b22_level0_row13\" class=\"row_heading level0 row13\" >svm</th>\n",
       "      <td id=\"T_92b22_row13_col0\" class=\"data row13 col0\" >SVM - Linear Kernel</td>\n",
       "      <td id=\"T_92b22_row13_col1\" class=\"data row13 col1\" >0.7903</td>\n",
       "      <td id=\"T_92b22_row13_col2\" class=\"data row13 col2\" >0.9583</td>\n",
       "      <td id=\"T_92b22_row13_col3\" class=\"data row13 col3\" >0.8000</td>\n",
       "      <td id=\"T_92b22_row13_col4\" class=\"data row13 col4\" >0.6650</td>\n",
       "      <td id=\"T_92b22_row13_col5\" class=\"data row13 col5\" >0.6638</td>\n",
       "      <td id=\"T_92b22_row13_col6\" class=\"data row13 col6\" >0.5533</td>\n",
       "      <td id=\"T_92b22_row13_col7\" class=\"data row13 col7\" >0.5911</td>\n",
       "      <td id=\"T_92b22_row13_col8\" class=\"data row13 col8\" >0.0110</td>\n",
       "    </tr>\n",
       "    <tr>\n",
       "      <th id=\"T_92b22_level0_row14\" class=\"row_heading level0 row14\" >dummy</th>\n",
       "      <td id=\"T_92b22_row14_col0\" class=\"data row14 col0\" >Dummy Classifier</td>\n",
       "      <td id=\"T_92b22_row14_col1\" class=\"data row14 col1\" >0.7472</td>\n",
       "      <td id=\"T_92b22_row14_col2\" class=\"data row14 col2\" >0.5000</td>\n",
       "      <td id=\"T_92b22_row14_col3\" class=\"data row14 col3\" >0.0000</td>\n",
       "      <td id=\"T_92b22_row14_col4\" class=\"data row14 col4\" >0.0000</td>\n",
       "      <td id=\"T_92b22_row14_col5\" class=\"data row14 col5\" >0.0000</td>\n",
       "      <td id=\"T_92b22_row14_col6\" class=\"data row14 col6\" >0.0000</td>\n",
       "      <td id=\"T_92b22_row14_col7\" class=\"data row14 col7\" >0.0000</td>\n",
       "      <td id=\"T_92b22_row14_col8\" class=\"data row14 col8\" >0.0110</td>\n",
       "    </tr>\n",
       "  </tbody>\n",
       "</table>\n"
      ],
      "text/plain": [
       "<pandas.io.formats.style.Styler at 0x28609ca4d10>"
      ]
     },
     "metadata": {},
     "output_type": "display_data"
    },
    {
     "data": {
      "text/html": [],
      "text/plain": [
       "<IPython.core.display.HTML object>"
      ]
     },
     "metadata": {},
     "output_type": "display_data"
    }
   ],
   "source": [
    "# Inisialisasi setup PyCaret dengan parameter untuk SMOTE dan pembagian data\n",
    "clf = setup(\n",
    "    data=df, \n",
    "    target='Anaemic', \n",
    "    session_id=123, \n",
    "    fix_imbalance=True, \n",
    "    train_size=0.8, \n",
    "    log_experiment=False,\n",
    "    experiment_name='Anaemic_Classification'\n",
    ")\n",
    "best_model = compare_models()"
   ]
  },
  {
   "cell_type": "code",
   "execution_count": 21,
   "id": "a7f89bd9-64bc-4ddf-a13b-9ef0e6c028af",
   "metadata": {
    "tags": []
   },
   "outputs": [
    {
     "data": {
      "application/vnd.jupyter.widget-view+json": {
       "model_id": "01f7a23c4ced48d6af5dc9b63fd110fc",
       "version_major": 2,
       "version_minor": 0
      },
      "text/plain": [
       "interactive(children=(ToggleButtons(description='Plot Type:', icons=('',), options=(('Pipeline Plot', 'pipelin…"
      ]
     },
     "metadata": {},
     "output_type": "display_data"
    }
   ],
   "source": [
    "from pycaret.classification import *\n",
    "evaluate_model(best_model)"
   ]
  },
  {
   "cell_type": "code",
   "execution_count": 22,
   "id": "158ff849-8540-4799-baa1-ad1cc16fa300",
   "metadata": {
    "tags": []
   },
   "outputs": [
    {
     "data": {
      "text/html": [
       "<style type=\"text/css\">\n",
       "#T_626cf_row8_col1, #T_626cf_row12_col1, #T_626cf_row14_col1 {\n",
       "  background-color: lightgreen;\n",
       "}\n",
       "</style>\n",
       "<table id=\"T_626cf\">\n",
       "  <thead>\n",
       "    <tr>\n",
       "      <th class=\"blank level0\" >&nbsp;</th>\n",
       "      <th id=\"T_626cf_level0_col0\" class=\"col_heading level0 col0\" >Description</th>\n",
       "      <th id=\"T_626cf_level0_col1\" class=\"col_heading level0 col1\" >Value</th>\n",
       "    </tr>\n",
       "  </thead>\n",
       "  <tbody>\n",
       "    <tr>\n",
       "      <th id=\"T_626cf_level0_row0\" class=\"row_heading level0 row0\" >0</th>\n",
       "      <td id=\"T_626cf_row0_col0\" class=\"data row0 col0\" >Session id</td>\n",
       "      <td id=\"T_626cf_row0_col1\" class=\"data row0 col1\" >123</td>\n",
       "    </tr>\n",
       "    <tr>\n",
       "      <th id=\"T_626cf_level0_row1\" class=\"row_heading level0 row1\" >1</th>\n",
       "      <td id=\"T_626cf_row1_col0\" class=\"data row1 col0\" >Target</td>\n",
       "      <td id=\"T_626cf_row1_col1\" class=\"data row1 col1\" >Anaemic</td>\n",
       "    </tr>\n",
       "    <tr>\n",
       "      <th id=\"T_626cf_level0_row2\" class=\"row_heading level0 row2\" >2</th>\n",
       "      <td id=\"T_626cf_row2_col0\" class=\"data row2 col0\" >Target type</td>\n",
       "      <td id=\"T_626cf_row2_col1\" class=\"data row2 col1\" >Binary</td>\n",
       "    </tr>\n",
       "    <tr>\n",
       "      <th id=\"T_626cf_level0_row3\" class=\"row_heading level0 row3\" >3</th>\n",
       "      <td id=\"T_626cf_row3_col0\" class=\"data row3 col0\" >Original data shape</td>\n",
       "      <td id=\"T_626cf_row3_col1\" class=\"data row3 col1\" >(104, 5)</td>\n",
       "    </tr>\n",
       "    <tr>\n",
       "      <th id=\"T_626cf_level0_row4\" class=\"row_heading level0 row4\" >4</th>\n",
       "      <td id=\"T_626cf_row4_col0\" class=\"data row4 col0\" >Transformed data shape</td>\n",
       "      <td id=\"T_626cf_row4_col1\" class=\"data row4 col1\" >(145, 5)</td>\n",
       "    </tr>\n",
       "    <tr>\n",
       "      <th id=\"T_626cf_level0_row5\" class=\"row_heading level0 row5\" >5</th>\n",
       "      <td id=\"T_626cf_row5_col0\" class=\"data row5 col0\" >Transformed train set shape</td>\n",
       "      <td id=\"T_626cf_row5_col1\" class=\"data row5 col1\" >(124, 5)</td>\n",
       "    </tr>\n",
       "    <tr>\n",
       "      <th id=\"T_626cf_level0_row6\" class=\"row_heading level0 row6\" >6</th>\n",
       "      <td id=\"T_626cf_row6_col0\" class=\"data row6 col0\" >Transformed test set shape</td>\n",
       "      <td id=\"T_626cf_row6_col1\" class=\"data row6 col1\" >(21, 5)</td>\n",
       "    </tr>\n",
       "    <tr>\n",
       "      <th id=\"T_626cf_level0_row7\" class=\"row_heading level0 row7\" >7</th>\n",
       "      <td id=\"T_626cf_row7_col0\" class=\"data row7 col0\" >Numeric features</td>\n",
       "      <td id=\"T_626cf_row7_col1\" class=\"data row7 col1\" >4</td>\n",
       "    </tr>\n",
       "    <tr>\n",
       "      <th id=\"T_626cf_level0_row8\" class=\"row_heading level0 row8\" >8</th>\n",
       "      <td id=\"T_626cf_row8_col0\" class=\"data row8 col0\" >Preprocess</td>\n",
       "      <td id=\"T_626cf_row8_col1\" class=\"data row8 col1\" >True</td>\n",
       "    </tr>\n",
       "    <tr>\n",
       "      <th id=\"T_626cf_level0_row9\" class=\"row_heading level0 row9\" >9</th>\n",
       "      <td id=\"T_626cf_row9_col0\" class=\"data row9 col0\" >Imputation type</td>\n",
       "      <td id=\"T_626cf_row9_col1\" class=\"data row9 col1\" >simple</td>\n",
       "    </tr>\n",
       "    <tr>\n",
       "      <th id=\"T_626cf_level0_row10\" class=\"row_heading level0 row10\" >10</th>\n",
       "      <td id=\"T_626cf_row10_col0\" class=\"data row10 col0\" >Numeric imputation</td>\n",
       "      <td id=\"T_626cf_row10_col1\" class=\"data row10 col1\" >mean</td>\n",
       "    </tr>\n",
       "    <tr>\n",
       "      <th id=\"T_626cf_level0_row11\" class=\"row_heading level0 row11\" >11</th>\n",
       "      <td id=\"T_626cf_row11_col0\" class=\"data row11 col0\" >Categorical imputation</td>\n",
       "      <td id=\"T_626cf_row11_col1\" class=\"data row11 col1\" >mode</td>\n",
       "    </tr>\n",
       "    <tr>\n",
       "      <th id=\"T_626cf_level0_row12\" class=\"row_heading level0 row12\" >12</th>\n",
       "      <td id=\"T_626cf_row12_col0\" class=\"data row12 col0\" >Fix imbalance</td>\n",
       "      <td id=\"T_626cf_row12_col1\" class=\"data row12 col1\" >True</td>\n",
       "    </tr>\n",
       "    <tr>\n",
       "      <th id=\"T_626cf_level0_row13\" class=\"row_heading level0 row13\" >13</th>\n",
       "      <td id=\"T_626cf_row13_col0\" class=\"data row13 col0\" >Fix imbalance method</td>\n",
       "      <td id=\"T_626cf_row13_col1\" class=\"data row13 col1\" >SMOTE</td>\n",
       "    </tr>\n",
       "    <tr>\n",
       "      <th id=\"T_626cf_level0_row14\" class=\"row_heading level0 row14\" >14</th>\n",
       "      <td id=\"T_626cf_row14_col0\" class=\"data row14 col0\" >Transformation</td>\n",
       "      <td id=\"T_626cf_row14_col1\" class=\"data row14 col1\" >True</td>\n",
       "    </tr>\n",
       "    <tr>\n",
       "      <th id=\"T_626cf_level0_row15\" class=\"row_heading level0 row15\" >15</th>\n",
       "      <td id=\"T_626cf_row15_col0\" class=\"data row15 col0\" >Transformation method</td>\n",
       "      <td id=\"T_626cf_row15_col1\" class=\"data row15 col1\" >yeo-johnson</td>\n",
       "    </tr>\n",
       "    <tr>\n",
       "      <th id=\"T_626cf_level0_row16\" class=\"row_heading level0 row16\" >16</th>\n",
       "      <td id=\"T_626cf_row16_col0\" class=\"data row16 col0\" >Fold Generator</td>\n",
       "      <td id=\"T_626cf_row16_col1\" class=\"data row16 col1\" >StratifiedKFold</td>\n",
       "    </tr>\n",
       "    <tr>\n",
       "      <th id=\"T_626cf_level0_row17\" class=\"row_heading level0 row17\" >17</th>\n",
       "      <td id=\"T_626cf_row17_col0\" class=\"data row17 col0\" >Fold Number</td>\n",
       "      <td id=\"T_626cf_row17_col1\" class=\"data row17 col1\" >10</td>\n",
       "    </tr>\n",
       "    <tr>\n",
       "      <th id=\"T_626cf_level0_row18\" class=\"row_heading level0 row18\" >18</th>\n",
       "      <td id=\"T_626cf_row18_col0\" class=\"data row18 col0\" >CPU Jobs</td>\n",
       "      <td id=\"T_626cf_row18_col1\" class=\"data row18 col1\" >-1</td>\n",
       "    </tr>\n",
       "    <tr>\n",
       "      <th id=\"T_626cf_level0_row19\" class=\"row_heading level0 row19\" >19</th>\n",
       "      <td id=\"T_626cf_row19_col0\" class=\"data row19 col0\" >Use GPU</td>\n",
       "      <td id=\"T_626cf_row19_col1\" class=\"data row19 col1\" >False</td>\n",
       "    </tr>\n",
       "    <tr>\n",
       "      <th id=\"T_626cf_level0_row20\" class=\"row_heading level0 row20\" >20</th>\n",
       "      <td id=\"T_626cf_row20_col0\" class=\"data row20 col0\" >Log Experiment</td>\n",
       "      <td id=\"T_626cf_row20_col1\" class=\"data row20 col1\" >False</td>\n",
       "    </tr>\n",
       "    <tr>\n",
       "      <th id=\"T_626cf_level0_row21\" class=\"row_heading level0 row21\" >21</th>\n",
       "      <td id=\"T_626cf_row21_col0\" class=\"data row21 col0\" >Experiment Name</td>\n",
       "      <td id=\"T_626cf_row21_col1\" class=\"data row21 col1\" >Anaemic_Classification</td>\n",
       "    </tr>\n",
       "    <tr>\n",
       "      <th id=\"T_626cf_level0_row22\" class=\"row_heading level0 row22\" >22</th>\n",
       "      <td id=\"T_626cf_row22_col0\" class=\"data row22 col0\" >USI</td>\n",
       "      <td id=\"T_626cf_row22_col1\" class=\"data row22 col1\" >dc70</td>\n",
       "    </tr>\n",
       "  </tbody>\n",
       "</table>\n"
      ],
      "text/plain": [
       "<pandas.io.formats.style.Styler at 0x2860c450650>"
      ]
     },
     "metadata": {},
     "output_type": "display_data"
    },
    {
     "data": {
      "text/html": [],
      "text/plain": [
       "<IPython.core.display.HTML object>"
      ]
     },
     "metadata": {},
     "output_type": "display_data"
    },
    {
     "data": {
      "text/html": [
       "<style type=\"text/css\">\n",
       "#T_fada4 th {\n",
       "  text-align: left;\n",
       "}\n",
       "#T_fada4_row0_col0, #T_fada4_row1_col0, #T_fada4_row1_col1, #T_fada4_row1_col2, #T_fada4_row1_col3, #T_fada4_row1_col5, #T_fada4_row1_col6, #T_fada4_row1_col7, #T_fada4_row2_col0, #T_fada4_row2_col1, #T_fada4_row2_col2, #T_fada4_row2_col3, #T_fada4_row2_col5, #T_fada4_row2_col6, #T_fada4_row2_col7, #T_fada4_row3_col0, #T_fada4_row3_col1, #T_fada4_row3_col2, #T_fada4_row3_col3, #T_fada4_row3_col5, #T_fada4_row3_col6, #T_fada4_row3_col7, #T_fada4_row4_col0, #T_fada4_row4_col1, #T_fada4_row4_col2, #T_fada4_row4_col3, #T_fada4_row4_col5, #T_fada4_row4_col6, #T_fada4_row4_col7, #T_fada4_row5_col0, #T_fada4_row5_col1, #T_fada4_row5_col2, #T_fada4_row5_col3, #T_fada4_row5_col4, #T_fada4_row5_col5, #T_fada4_row5_col6, #T_fada4_row5_col7, #T_fada4_row6_col0, #T_fada4_row6_col1, #T_fada4_row6_col2, #T_fada4_row6_col3, #T_fada4_row6_col4, #T_fada4_row6_col5, #T_fada4_row6_col6, #T_fada4_row6_col7, #T_fada4_row7_col0, #T_fada4_row7_col1, #T_fada4_row7_col3, #T_fada4_row7_col4, #T_fada4_row7_col5, #T_fada4_row7_col6, #T_fada4_row7_col7, #T_fada4_row8_col0, #T_fada4_row8_col1, #T_fada4_row8_col2, #T_fada4_row8_col3, #T_fada4_row8_col4, #T_fada4_row8_col5, #T_fada4_row8_col6, #T_fada4_row8_col7, #T_fada4_row9_col0, #T_fada4_row9_col1, #T_fada4_row9_col2, #T_fada4_row9_col3, #T_fada4_row9_col4, #T_fada4_row9_col5, #T_fada4_row9_col6, #T_fada4_row9_col7, #T_fada4_row10_col0, #T_fada4_row10_col1, #T_fada4_row10_col2, #T_fada4_row10_col3, #T_fada4_row10_col4, #T_fada4_row10_col5, #T_fada4_row10_col6, #T_fada4_row10_col7, #T_fada4_row11_col0, #T_fada4_row11_col1, #T_fada4_row11_col2, #T_fada4_row11_col3, #T_fada4_row11_col4, #T_fada4_row11_col5, #T_fada4_row11_col6, #T_fada4_row11_col7, #T_fada4_row12_col0, #T_fada4_row12_col1, #T_fada4_row12_col2, #T_fada4_row12_col3, #T_fada4_row12_col4, #T_fada4_row12_col5, #T_fada4_row12_col6, #T_fada4_row12_col7, #T_fada4_row13_col0, #T_fada4_row13_col1, #T_fada4_row13_col2, #T_fada4_row13_col3, #T_fada4_row13_col4, #T_fada4_row13_col5, #T_fada4_row13_col6, #T_fada4_row13_col7, #T_fada4_row14_col0, #T_fada4_row14_col1, #T_fada4_row14_col2, #T_fada4_row14_col3, #T_fada4_row14_col4, #T_fada4_row14_col5, #T_fada4_row14_col6, #T_fada4_row14_col7 {\n",
       "  text-align: left;\n",
       "}\n",
       "#T_fada4_row0_col1, #T_fada4_row0_col2, #T_fada4_row0_col3, #T_fada4_row0_col4, #T_fada4_row0_col5, #T_fada4_row0_col6, #T_fada4_row0_col7, #T_fada4_row1_col4, #T_fada4_row2_col4, #T_fada4_row3_col4, #T_fada4_row4_col4, #T_fada4_row7_col2 {\n",
       "  text-align: left;\n",
       "  background-color: yellow;\n",
       "}\n",
       "#T_fada4_row0_col8, #T_fada4_row1_col8, #T_fada4_row2_col8, #T_fada4_row3_col8, #T_fada4_row4_col8, #T_fada4_row5_col8, #T_fada4_row6_col8, #T_fada4_row7_col8, #T_fada4_row8_col8, #T_fada4_row9_col8, #T_fada4_row11_col8, #T_fada4_row12_col8, #T_fada4_row13_col8, #T_fada4_row14_col8 {\n",
       "  text-align: left;\n",
       "  background-color: lightgrey;\n",
       "}\n",
       "#T_fada4_row10_col8 {\n",
       "  text-align: left;\n",
       "  background-color: yellow;\n",
       "  background-color: lightgrey;\n",
       "}\n",
       "</style>\n",
       "<table id=\"T_fada4\">\n",
       "  <thead>\n",
       "    <tr>\n",
       "      <th class=\"blank level0\" >&nbsp;</th>\n",
       "      <th id=\"T_fada4_level0_col0\" class=\"col_heading level0 col0\" >Model</th>\n",
       "      <th id=\"T_fada4_level0_col1\" class=\"col_heading level0 col1\" >Accuracy</th>\n",
       "      <th id=\"T_fada4_level0_col2\" class=\"col_heading level0 col2\" >AUC</th>\n",
       "      <th id=\"T_fada4_level0_col3\" class=\"col_heading level0 col3\" >Recall</th>\n",
       "      <th id=\"T_fada4_level0_col4\" class=\"col_heading level0 col4\" >Prec.</th>\n",
       "      <th id=\"T_fada4_level0_col5\" class=\"col_heading level0 col5\" >F1</th>\n",
       "      <th id=\"T_fada4_level0_col6\" class=\"col_heading level0 col6\" >Kappa</th>\n",
       "      <th id=\"T_fada4_level0_col7\" class=\"col_heading level0 col7\" >MCC</th>\n",
       "      <th id=\"T_fada4_level0_col8\" class=\"col_heading level0 col8\" >TT (Sec)</th>\n",
       "    </tr>\n",
       "  </thead>\n",
       "  <tbody>\n",
       "    <tr>\n",
       "      <th id=\"T_fada4_level0_row0\" class=\"row_heading level0 row0\" >lightgbm</th>\n",
       "      <td id=\"T_fada4_row0_col0\" class=\"data row0 col0\" >Light Gradient Boosting Machine</td>\n",
       "      <td id=\"T_fada4_row0_col1\" class=\"data row0 col1\" >0.9750</td>\n",
       "      <td id=\"T_fada4_row0_col2\" class=\"data row0 col2\" >0.9833</td>\n",
       "      <td id=\"T_fada4_row0_col3\" class=\"data row0 col3\" >0.9500</td>\n",
       "      <td id=\"T_fada4_row0_col4\" class=\"data row0 col4\" >0.9667</td>\n",
       "      <td id=\"T_fada4_row0_col5\" class=\"data row0 col5\" >0.9467</td>\n",
       "      <td id=\"T_fada4_row0_col6\" class=\"data row0 col6\" >0.9314</td>\n",
       "      <td id=\"T_fada4_row0_col7\" class=\"data row0 col7\" >0.9400</td>\n",
       "      <td id=\"T_fada4_row0_col8\" class=\"data row0 col8\" >0.0270</td>\n",
       "    </tr>\n",
       "    <tr>\n",
       "      <th id=\"T_fada4_level0_row1\" class=\"row_heading level0 row1\" >dt</th>\n",
       "      <td id=\"T_fada4_row1_col0\" class=\"data row1 col0\" >Decision Tree Classifier</td>\n",
       "      <td id=\"T_fada4_row1_col1\" class=\"data row1 col1\" >0.9625</td>\n",
       "      <td id=\"T_fada4_row1_col2\" class=\"data row1 col2\" >0.9417</td>\n",
       "      <td id=\"T_fada4_row1_col3\" class=\"data row1 col3\" >0.9000</td>\n",
       "      <td id=\"T_fada4_row1_col4\" class=\"data row1 col4\" >0.9667</td>\n",
       "      <td id=\"T_fada4_row1_col5\" class=\"data row1 col5\" >0.9133</td>\n",
       "      <td id=\"T_fada4_row1_col6\" class=\"data row1 col6\" >0.8914</td>\n",
       "      <td id=\"T_fada4_row1_col7\" class=\"data row1 col7\" >0.9055</td>\n",
       "      <td id=\"T_fada4_row1_col8\" class=\"data row1 col8\" >0.0170</td>\n",
       "    </tr>\n",
       "    <tr>\n",
       "      <th id=\"T_fada4_level0_row2\" class=\"row_heading level0 row2\" >rf</th>\n",
       "      <td id=\"T_fada4_row2_col0\" class=\"data row2 col0\" >Random Forest Classifier</td>\n",
       "      <td id=\"T_fada4_row2_col1\" class=\"data row2 col1\" >0.9625</td>\n",
       "      <td id=\"T_fada4_row2_col2\" class=\"data row2 col2\" >0.9792</td>\n",
       "      <td id=\"T_fada4_row2_col3\" class=\"data row2 col3\" >0.9000</td>\n",
       "      <td id=\"T_fada4_row2_col4\" class=\"data row2 col4\" >0.9667</td>\n",
       "      <td id=\"T_fada4_row2_col5\" class=\"data row2 col5\" >0.9133</td>\n",
       "      <td id=\"T_fada4_row2_col6\" class=\"data row2 col6\" >0.8914</td>\n",
       "      <td id=\"T_fada4_row2_col7\" class=\"data row2 col7\" >0.9055</td>\n",
       "      <td id=\"T_fada4_row2_col8\" class=\"data row2 col8\" >0.0850</td>\n",
       "    </tr>\n",
       "    <tr>\n",
       "      <th id=\"T_fada4_level0_row3\" class=\"row_heading level0 row3\" >ada</th>\n",
       "      <td id=\"T_fada4_row3_col0\" class=\"data row3 col0\" >Ada Boost Classifier</td>\n",
       "      <td id=\"T_fada4_row3_col1\" class=\"data row3 col1\" >0.9625</td>\n",
       "      <td id=\"T_fada4_row3_col2\" class=\"data row3 col2\" >0.9667</td>\n",
       "      <td id=\"T_fada4_row3_col3\" class=\"data row3 col3\" >0.9000</td>\n",
       "      <td id=\"T_fada4_row3_col4\" class=\"data row3 col4\" >0.9667</td>\n",
       "      <td id=\"T_fada4_row3_col5\" class=\"data row3 col5\" >0.9133</td>\n",
       "      <td id=\"T_fada4_row3_col6\" class=\"data row3 col6\" >0.8914</td>\n",
       "      <td id=\"T_fada4_row3_col7\" class=\"data row3 col7\" >0.9055</td>\n",
       "      <td id=\"T_fada4_row3_col8\" class=\"data row3 col8\" >0.0440</td>\n",
       "    </tr>\n",
       "    <tr>\n",
       "      <th id=\"T_fada4_level0_row4\" class=\"row_heading level0 row4\" >gbc</th>\n",
       "      <td id=\"T_fada4_row4_col0\" class=\"data row4 col0\" >Gradient Boosting Classifier</td>\n",
       "      <td id=\"T_fada4_row4_col1\" class=\"data row4 col1\" >0.9625</td>\n",
       "      <td id=\"T_fada4_row4_col2\" class=\"data row4 col2\" >0.9417</td>\n",
       "      <td id=\"T_fada4_row4_col3\" class=\"data row4 col3\" >0.9000</td>\n",
       "      <td id=\"T_fada4_row4_col4\" class=\"data row4 col4\" >0.9667</td>\n",
       "      <td id=\"T_fada4_row4_col5\" class=\"data row4 col5\" >0.9133</td>\n",
       "      <td id=\"T_fada4_row4_col6\" class=\"data row4 col6\" >0.8914</td>\n",
       "      <td id=\"T_fada4_row4_col7\" class=\"data row4 col7\" >0.9055</td>\n",
       "      <td id=\"T_fada4_row4_col8\" class=\"data row4 col8\" >0.0470</td>\n",
       "    </tr>\n",
       "    <tr>\n",
       "      <th id=\"T_fada4_level0_row5\" class=\"row_heading level0 row5\" >xgboost</th>\n",
       "      <td id=\"T_fada4_row5_col0\" class=\"data row5 col0\" >Extreme Gradient Boosting</td>\n",
       "      <td id=\"T_fada4_row5_col1\" class=\"data row5 col1\" >0.9500</td>\n",
       "      <td id=\"T_fada4_row5_col2\" class=\"data row5 col2\" >0.9542</td>\n",
       "      <td id=\"T_fada4_row5_col3\" class=\"data row5 col3\" >0.9000</td>\n",
       "      <td id=\"T_fada4_row5_col4\" class=\"data row5 col4\" >0.9500</td>\n",
       "      <td id=\"T_fada4_row5_col5\" class=\"data row5 col5\" >0.9000</td>\n",
       "      <td id=\"T_fada4_row5_col6\" class=\"data row5 col6\" >0.8700</td>\n",
       "      <td id=\"T_fada4_row5_col7\" class=\"data row5 col7\" >0.8887</td>\n",
       "      <td id=\"T_fada4_row5_col8\" class=\"data row5 col8\" >0.0280</td>\n",
       "    </tr>\n",
       "    <tr>\n",
       "      <th id=\"T_fada4_level0_row6\" class=\"row_heading level0 row6\" >ridge</th>\n",
       "      <td id=\"T_fada4_row6_col0\" class=\"data row6 col0\" >Ridge Classifier</td>\n",
       "      <td id=\"T_fada4_row6_col1\" class=\"data row6 col1\" >0.9389</td>\n",
       "      <td id=\"T_fada4_row6_col2\" class=\"data row6 col2\" >0.9512</td>\n",
       "      <td id=\"T_fada4_row6_col3\" class=\"data row6 col3\" >0.9000</td>\n",
       "      <td id=\"T_fada4_row6_col4\" class=\"data row6 col4\" >0.9000</td>\n",
       "      <td id=\"T_fada4_row6_col5\" class=\"data row6 col5\" >0.8733</td>\n",
       "      <td id=\"T_fada4_row6_col6\" class=\"data row6 col6\" >0.8356</td>\n",
       "      <td id=\"T_fada4_row6_col7\" class=\"data row6 col7\" >0.8556</td>\n",
       "      <td id=\"T_fada4_row6_col8\" class=\"data row6 col8\" >0.0170</td>\n",
       "    </tr>\n",
       "    <tr>\n",
       "      <th id=\"T_fada4_level0_row7\" class=\"row_heading level0 row7\" >et</th>\n",
       "      <td id=\"T_fada4_row7_col0\" class=\"data row7 col0\" >Extra Trees Classifier</td>\n",
       "      <td id=\"T_fada4_row7_col1\" class=\"data row7 col1\" >0.9375</td>\n",
       "      <td id=\"T_fada4_row7_col2\" class=\"data row7 col2\" >0.9833</td>\n",
       "      <td id=\"T_fada4_row7_col3\" class=\"data row7 col3\" >0.9000</td>\n",
       "      <td id=\"T_fada4_row7_col4\" class=\"data row7 col4\" >0.9167</td>\n",
       "      <td id=\"T_fada4_row7_col5\" class=\"data row7 col5\" >0.8800</td>\n",
       "      <td id=\"T_fada4_row7_col6\" class=\"data row7 col6\" >0.8414</td>\n",
       "      <td id=\"T_fada4_row7_col7\" class=\"data row7 col7\" >0.8632</td>\n",
       "      <td id=\"T_fada4_row7_col8\" class=\"data row7 col8\" >0.0580</td>\n",
       "    </tr>\n",
       "    <tr>\n",
       "      <th id=\"T_fada4_level0_row8\" class=\"row_heading level0 row8\" >lda</th>\n",
       "      <td id=\"T_fada4_row8_col0\" class=\"data row8 col0\" >Linear Discriminant Analysis</td>\n",
       "      <td id=\"T_fada4_row8_col1\" class=\"data row8 col1\" >0.9264</td>\n",
       "      <td id=\"T_fada4_row8_col2\" class=\"data row8 col2\" >0.9357</td>\n",
       "      <td id=\"T_fada4_row8_col3\" class=\"data row8 col3\" >0.9000</td>\n",
       "      <td id=\"T_fada4_row8_col4\" class=\"data row8 col4\" >0.8833</td>\n",
       "      <td id=\"T_fada4_row8_col5\" class=\"data row8 col5\" >0.8600</td>\n",
       "      <td id=\"T_fada4_row8_col6\" class=\"data row8 col6\" >0.8142</td>\n",
       "      <td id=\"T_fada4_row8_col7\" class=\"data row8 col7\" >0.8388</td>\n",
       "      <td id=\"T_fada4_row8_col8\" class=\"data row8 col8\" >0.0160</td>\n",
       "    </tr>\n",
       "    <tr>\n",
       "      <th id=\"T_fada4_level0_row9\" class=\"row_heading level0 row9\" >qda</th>\n",
       "      <td id=\"T_fada4_row9_col0\" class=\"data row9 col0\" >Quadratic Discriminant Analysis</td>\n",
       "      <td id=\"T_fada4_row9_col1\" class=\"data row9 col1\" >0.8778</td>\n",
       "      <td id=\"T_fada4_row9_col2\" class=\"data row9 col2\" >0.8857</td>\n",
       "      <td id=\"T_fada4_row9_col3\" class=\"data row9 col3\" >0.8500</td>\n",
       "      <td id=\"T_fada4_row9_col4\" class=\"data row9 col4\" >0.7833</td>\n",
       "      <td id=\"T_fada4_row9_col5\" class=\"data row9 col5\" >0.7767</td>\n",
       "      <td id=\"T_fada4_row9_col6\" class=\"data row9 col6\" >0.6984</td>\n",
       "      <td id=\"T_fada4_row9_col7\" class=\"data row9 col7\" >0.7305</td>\n",
       "      <td id=\"T_fada4_row9_col8\" class=\"data row9 col8\" >0.0170</td>\n",
       "    </tr>\n",
       "    <tr>\n",
       "      <th id=\"T_fada4_level0_row10\" class=\"row_heading level0 row10\" >dummy</th>\n",
       "      <td id=\"T_fada4_row10_col0\" class=\"data row10 col0\" >Dummy Classifier</td>\n",
       "      <td id=\"T_fada4_row10_col1\" class=\"data row10 col1\" >0.7472</td>\n",
       "      <td id=\"T_fada4_row10_col2\" class=\"data row10 col2\" >0.5000</td>\n",
       "      <td id=\"T_fada4_row10_col3\" class=\"data row10 col3\" >0.0000</td>\n",
       "      <td id=\"T_fada4_row10_col4\" class=\"data row10 col4\" >0.0000</td>\n",
       "      <td id=\"T_fada4_row10_col5\" class=\"data row10 col5\" >0.0000</td>\n",
       "      <td id=\"T_fada4_row10_col6\" class=\"data row10 col6\" >0.0000</td>\n",
       "      <td id=\"T_fada4_row10_col7\" class=\"data row10 col7\" >0.0000</td>\n",
       "      <td id=\"T_fada4_row10_col8\" class=\"data row10 col8\" >0.0150</td>\n",
       "    </tr>\n",
       "    <tr>\n",
       "      <th id=\"T_fada4_level0_row11\" class=\"row_heading level0 row11\" >lr</th>\n",
       "      <td id=\"T_fada4_row11_col0\" class=\"data row11 col0\" >Logistic Regression</td>\n",
       "      <td id=\"T_fada4_row11_col1\" class=\"data row11 col1\" >0.7347</td>\n",
       "      <td id=\"T_fada4_row11_col2\" class=\"data row11 col2\" >0.7726</td>\n",
       "      <td id=\"T_fada4_row11_col3\" class=\"data row11 col3\" >0.6500</td>\n",
       "      <td id=\"T_fada4_row11_col4\" class=\"data row11 col4\" >0.4433</td>\n",
       "      <td id=\"T_fada4_row11_col5\" class=\"data row11 col5\" >0.5150</td>\n",
       "      <td id=\"T_fada4_row11_col6\" class=\"data row11 col6\" >0.3525</td>\n",
       "      <td id=\"T_fada4_row11_col7\" class=\"data row11 col7\" >0.3795</td>\n",
       "      <td id=\"T_fada4_row11_col8\" class=\"data row11 col8\" >0.0200</td>\n",
       "    </tr>\n",
       "    <tr>\n",
       "      <th id=\"T_fada4_level0_row12\" class=\"row_heading level0 row12\" >nb</th>\n",
       "      <td id=\"T_fada4_row12_col0\" class=\"data row12 col0\" >Naive Bayes</td>\n",
       "      <td id=\"T_fada4_row12_col1\" class=\"data row12 col1\" >0.7042</td>\n",
       "      <td id=\"T_fada4_row12_col2\" class=\"data row12 col2\" >0.8151</td>\n",
       "      <td id=\"T_fada4_row12_col3\" class=\"data row12 col3\" >0.7167</td>\n",
       "      <td id=\"T_fada4_row12_col4\" class=\"data row12 col4\" >0.4875</td>\n",
       "      <td id=\"T_fada4_row12_col5\" class=\"data row12 col5\" >0.5600</td>\n",
       "      <td id=\"T_fada4_row12_col6\" class=\"data row12 col6\" >0.3812</td>\n",
       "      <td id=\"T_fada4_row12_col7\" class=\"data row12 col7\" >0.3613</td>\n",
       "      <td id=\"T_fada4_row12_col8\" class=\"data row12 col8\" >0.0200</td>\n",
       "    </tr>\n",
       "    <tr>\n",
       "      <th id=\"T_fada4_level0_row13\" class=\"row_heading level0 row13\" >knn</th>\n",
       "      <td id=\"T_fada4_row13_col0\" class=\"data row13 col0\" >K Neighbors Classifier</td>\n",
       "      <td id=\"T_fada4_row13_col1\" class=\"data row13 col1\" >0.6778</td>\n",
       "      <td id=\"T_fada4_row13_col2\" class=\"data row13 col2\" >0.7373</td>\n",
       "      <td id=\"T_fada4_row13_col3\" class=\"data row13 col3\" >0.6167</td>\n",
       "      <td id=\"T_fada4_row13_col4\" class=\"data row13 col4\" >0.4067</td>\n",
       "      <td id=\"T_fada4_row13_col5\" class=\"data row13 col5\" >0.4755</td>\n",
       "      <td id=\"T_fada4_row13_col6\" class=\"data row13 col6\" >0.2701</td>\n",
       "      <td id=\"T_fada4_row13_col7\" class=\"data row13 col7\" >0.2857</td>\n",
       "      <td id=\"T_fada4_row13_col8\" class=\"data row13 col8\" >0.0270</td>\n",
       "    </tr>\n",
       "    <tr>\n",
       "      <th id=\"T_fada4_level0_row14\" class=\"row_heading level0 row14\" >svm</th>\n",
       "      <td id=\"T_fada4_row14_col0\" class=\"data row14 col0\" >SVM - Linear Kernel</td>\n",
       "      <td id=\"T_fada4_row14_col1\" class=\"data row14 col1\" >0.4097</td>\n",
       "      <td id=\"T_fada4_row14_col2\" class=\"data row14 col2\" >0.7619</td>\n",
       "      <td id=\"T_fada4_row14_col3\" class=\"data row14 col3\" >0.8333</td>\n",
       "      <td id=\"T_fada4_row14_col4\" class=\"data row14 col4\" >0.3599</td>\n",
       "      <td id=\"T_fada4_row14_col5\" class=\"data row14 col5\" >0.4216</td>\n",
       "      <td id=\"T_fada4_row14_col6\" class=\"data row14 col6\" >0.1058</td>\n",
       "      <td id=\"T_fada4_row14_col7\" class=\"data row14 col7\" >0.1419</td>\n",
       "      <td id=\"T_fada4_row14_col8\" class=\"data row14 col8\" >0.0180</td>\n",
       "    </tr>\n",
       "  </tbody>\n",
       "</table>\n"
      ],
      "text/plain": [
       "<pandas.io.formats.style.Styler at 0x28603396450>"
      ]
     },
     "metadata": {},
     "output_type": "display_data"
    },
    {
     "data": {
      "text/html": [],
      "text/plain": [
       "<IPython.core.display.HTML object>"
      ]
     },
     "metadata": {},
     "output_type": "display_data"
    }
   ],
   "source": [
    "#trasformation\n",
    "clf = setup(\n",
    "    data=df, \n",
    "    target='Anaemic', \n",
    "    session_id=123, \n",
    "    fix_imbalance=True, \n",
    "    train_size=0.8, \n",
    "    log_experiment=False,\n",
    "    transformation = True,\n",
    "    experiment_name='Anaemic_Classification'\n",
    ")\n",
    "best_model1 = compare_models()"
   ]
  },
  {
   "cell_type": "code",
   "execution_count": 23,
   "id": "67c331d4-b4d2-409a-a9b4-f20db6c3bdcc",
   "metadata": {},
   "outputs": [
    {
     "data": {
      "application/vnd.jupyter.widget-view+json": {
       "model_id": "1cff3ea884004394befc4c7ae9882d04",
       "version_major": 2,
       "version_minor": 0
      },
      "text/plain": [
       "interactive(children=(ToggleButtons(description='Plot Type:', icons=('',), options=(('Pipeline Plot', 'pipelin…"
      ]
     },
     "metadata": {},
     "output_type": "display_data"
    }
   ],
   "source": [
    "evaluate_model(best_model1)"
   ]
  },
  {
   "cell_type": "code",
   "execution_count": null,
   "id": "22694a47-7aa5-4916-82f1-4bdb15cbd206",
   "metadata": {},
   "outputs": [],
   "source": []
  }
 ],
 "metadata": {
  "kernelspec": {
   "display_name": "Python 3 (ipykernel)",
   "language": "python",
   "name": "python3"
  },
  "language_info": {
   "codemirror_mode": {
    "name": "ipython",
    "version": 3
   },
   "file_extension": ".py",
   "mimetype": "text/x-python",
   "name": "python",
   "nbconvert_exporter": "python",
   "pygments_lexer": "ipython3",
   "version": "3.11.5"
  }
 },
 "nbformat": 4,
 "nbformat_minor": 5
}
